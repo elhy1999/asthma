{
 "cells": [
  {
   "cell_type": "markdown",
   "metadata": {},
   "source": [
    "# Import packages"
   ]
  },
  {
   "cell_type": "code",
   "execution_count": 1,
   "metadata": {},
   "outputs": [],
   "source": [
    "import os\n",
    "import sys\n",
    "os.getcwd()\n",
    "os.chdir(\"./..\")\n",
    "sys.path.append(os.getcwd())\n",
    "\n",
    "import cv2\n",
    "\n",
    "from utils.paths import REPO_PATH"
   ]
  },
  {
   "cell_type": "markdown",
   "metadata": {},
   "source": [
    "# Split videos into frames"
   ]
  },
  {
   "cell_type": "code",
   "execution_count": 2,
   "metadata": {},
   "outputs": [
    {
     "name": "stdout",
     "output_type": "stream",
     "text": [
      "Taking images from video: c:/Users/ernes/Git/asthma/data/archive/used_videos/zzz_more_videos/mouth_sealed_negative_8.mov\n",
      "Saving images to: c:/Users/ernes/Git/asthma/data/new_images\n"
     ]
    }
   ],
   "source": [
    "# Path to the video file\n",
    "file_name = ''  # change\n",
    "file_extension = \"mov\" # change\n",
    "video_directory = f\"{REPO_PATH}/data/archive/used_videos/zzz_more_videos\" # delete me\n",
    "\n",
    "video_path = f\"{video_directory}/{file_name}.{file_extension}\"\n",
    "\n",
    "# Directory where you want to save the frames\n",
    "frames_dir = f'{REPO_PATH}/data/new_images'  # change\n",
    "os.makedirs(frames_dir, exist_ok=True)\n",
    "\n",
    "print(f\"Taking images from video: {video_path}\")\n",
    "print(f\"Saving images to: {frames_dir}\")"
   ]
  },
  {
   "cell_type": "code",
   "execution_count": 3,
   "metadata": {},
   "outputs": [
    {
     "name": "stdout",
     "output_type": "stream",
     "text": [
      "Saved c:/Users/ernes/Git/asthma/data/new_images\\mouth_sealed_negative_8_0000.jpg\n",
      "Saved c:/Users/ernes/Git/asthma/data/new_images\\mouth_sealed_negative_8_0001.jpg\n",
      "Saved c:/Users/ernes/Git/asthma/data/new_images\\mouth_sealed_negative_8_0002.jpg\n",
      "Saved c:/Users/ernes/Git/asthma/data/new_images\\mouth_sealed_negative_8_0003.jpg\n",
      "Saved c:/Users/ernes/Git/asthma/data/new_images\\mouth_sealed_negative_8_0004.jpg\n",
      "Saved c:/Users/ernes/Git/asthma/data/new_images\\mouth_sealed_negative_8_0005.jpg\n",
      "Saved c:/Users/ernes/Git/asthma/data/new_images\\mouth_sealed_negative_8_0006.jpg\n",
      "Saved c:/Users/ernes/Git/asthma/data/new_images\\mouth_sealed_negative_8_0007.jpg\n",
      "Saved c:/Users/ernes/Git/asthma/data/new_images\\mouth_sealed_negative_8_0008.jpg\n",
      "Saved c:/Users/ernes/Git/asthma/data/new_images\\mouth_sealed_negative_8_0009.jpg\n",
      "Saved c:/Users/ernes/Git/asthma/data/new_images\\mouth_sealed_negative_8_0010.jpg\n",
      "Saved c:/Users/ernes/Git/asthma/data/new_images\\mouth_sealed_negative_8_0011.jpg\n",
      "Saved c:/Users/ernes/Git/asthma/data/new_images\\mouth_sealed_negative_8_0012.jpg\n",
      "Saved c:/Users/ernes/Git/asthma/data/new_images\\mouth_sealed_negative_8_0013.jpg\n",
      "Saved c:/Users/ernes/Git/asthma/data/new_images\\mouth_sealed_negative_8_0014.jpg\n",
      "Saved c:/Users/ernes/Git/asthma/data/new_images\\mouth_sealed_negative_8_0015.jpg\n",
      "Saved c:/Users/ernes/Git/asthma/data/new_images\\mouth_sealed_negative_8_0016.jpg\n",
      "Saved c:/Users/ernes/Git/asthma/data/new_images\\mouth_sealed_negative_8_0017.jpg\n",
      "Saved c:/Users/ernes/Git/asthma/data/new_images\\mouth_sealed_negative_8_0018.jpg\n",
      "Saved c:/Users/ernes/Git/asthma/data/new_images\\mouth_sealed_negative_8_0019.jpg\n",
      "Saved c:/Users/ernes/Git/asthma/data/new_images\\mouth_sealed_negative_8_0020.jpg\n",
      "Saved c:/Users/ernes/Git/asthma/data/new_images\\mouth_sealed_negative_8_0021.jpg\n",
      "Saved c:/Users/ernes/Git/asthma/data/new_images\\mouth_sealed_negative_8_0022.jpg\n",
      "Saved c:/Users/ernes/Git/asthma/data/new_images\\mouth_sealed_negative_8_0023.jpg\n",
      "Saved c:/Users/ernes/Git/asthma/data/new_images\\mouth_sealed_negative_8_0024.jpg\n",
      "Saved c:/Users/ernes/Git/asthma/data/new_images\\mouth_sealed_negative_8_0025.jpg\n",
      "Saved c:/Users/ernes/Git/asthma/data/new_images\\mouth_sealed_negative_8_0026.jpg\n",
      "Saved c:/Users/ernes/Git/asthma/data/new_images\\mouth_sealed_negative_8_0027.jpg\n"
     ]
    }
   ],
   "source": [
    "# Open the video\n",
    "cap = cv2.VideoCapture(video_path)\n",
    "\n",
    "# Get the original FPS of the video\n",
    "original_fps = cap.get(cv2.CAP_PROP_FPS)\n",
    "\n",
    "# Target FPS (modify this value to your desired FPS)\n",
    "target_fps = 10\n",
    "\n",
    "# Calculate the number of frames to skip to achieve the target FPS\n",
    "skip_frames = round(original_fps / target_fps) - 1\n",
    "\n",
    "# Initialize a variable to keep track of the frame number\n",
    "frame_number = 0\n",
    "\n",
    "# Initialize a counter to count frames and help in skipping\n",
    "frame_counter = 0\n",
    "\n",
    "while True:\n",
    "    # Read a new frame\n",
    "    success, frame = cap.read()\n",
    "    \n",
    "    # If the frame was not successfully read, we've reached the end of the video\n",
    "    if not success:\n",
    "        break\n",
    "    \n",
    "    # Only save the frame if the counter matches the number of frames to skip\n",
    "    if frame_counter % (skip_frames + 1) == 0:\n",
    "        # Save the frame as an image file\n",
    "        frame_path = os.path.join(frames_dir, f'{file_name}_{frame_number:04d}.jpg')\n",
    "        cv2.imwrite(frame_path, frame)\n",
    "        \n",
    "        # Print the frame number to show progress\n",
    "        print(f'Saved {frame_path}')\n",
    "        \n",
    "        # Increment the frame number\n",
    "        frame_number += 1\n",
    "    \n",
    "    # Increment the frame counter\n",
    "    frame_counter += 1\n",
    "\n",
    "# Release the video capture object\n",
    "cap.release()"
   ]
  },
  {
   "cell_type": "code",
   "execution_count": null,
   "metadata": {},
   "outputs": [],
   "source": []
  }
 ],
 "metadata": {
  "kernelspec": {
   "display_name": "cv",
   "language": "python",
   "name": "python3"
  },
  "language_info": {
   "codemirror_mode": {
    "name": "ipython",
    "version": 3
   },
   "file_extension": ".py",
   "mimetype": "text/x-python",
   "name": "python",
   "nbconvert_exporter": "python",
   "pygments_lexer": "ipython3",
   "version": "3.10.13"
  }
 },
 "nbformat": 4,
 "nbformat_minor": 2
}
