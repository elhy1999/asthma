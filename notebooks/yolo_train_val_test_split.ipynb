{
 "cells": [
  {
   "cell_type": "code",
   "execution_count": 1,
   "metadata": {},
   "outputs": [],
   "source": [
    "# asthma/notebooks/yolo_train_val_test_split.ipynb\n",
    "import os\n",
    "import sys\n",
    "os.chdir(\"./..\")\n",
    "sys.path.append(os.getcwd())\n",
    "\n",
    "import shutil\n",
    "import yaml\n",
    "import glob\n",
    "import random\n",
    "from tqdm import trange\n",
    "\n",
    "REPO_PATH = os.getcwd().replace(\"\\\\\", \"/\")"
   ]
  },
  {
   "cell_type": "code",
   "execution_count": 2,
   "metadata": {},
   "outputs": [],
   "source": [
    "YOLO_FULL_DATA_PATH = f\"{REPO_PATH}/data/full_dataset\"\n",
    "YOLO_DATA_PATH = f\"{REPO_PATH}/data\"\n",
    "CLASS_TO_IGNORE_DURING_TRAINING = None # \"background\"\n",
    "if CLASS_TO_IGNORE_DURING_TRAINING != None:\n",
    "    print(f\"Ignoring {CLASS_TO_IGNORE_DURING_TRAINING} class if it is found\")"
   ]
  },
  {
   "cell_type": "code",
   "execution_count": 3,
   "metadata": {},
   "outputs": [
    {
     "name": "stdout",
     "output_type": "stream",
     "text": [
      "Found 4 classes: ['background', 'mouth_closed', 'mouth_sealed_on_inhaler', 'remove_cap']\n"
     ]
    }
   ],
   "source": [
    "classes = os.listdir(f\"{YOLO_FULL_DATA_PATH}/images\")\n",
    "print(f\"Found {len(classes)} classes: {classes}\")"
   ]
  },
  {
   "cell_type": "code",
   "execution_count": 4,
   "metadata": {},
   "outputs": [],
   "source": [
    "if CLASS_TO_IGNORE_DURING_TRAINING != None:\n",
    "    all_image_paths = [filename.replace(\"\\\\\", \"/\") for filename in glob.glob(f\"{YOLO_FULL_DATA_PATH}/images/[!{CLASS_TO_IGNORE_DURING_TRAINING}]*/*.jpg\", recursive=True)]\n",
    "else:\n",
    "    all_image_paths = [filename.replace(\"\\\\\", \"/\") for filename in glob.glob(f\"{YOLO_FULL_DATA_PATH}/images/*/*.jpg\", recursive=True)]\n",
    "all_image_filenames = [filename.split(\"/\")[-1] for filename in all_image_paths]\n",
    "all_label_paths = []\n",
    "for image_filename in all_image_filenames:\n",
    "    label_path = image_filename.replace(\".jpg\", \".txt\").replace(\"images\", \"labels\")\n",
    "    all_label_paths.append(f\"{YOLO_FULL_DATA_PATH}/labels/{label_path}\")\n",
    "\n",
    "all_image_paths = sorted(all_image_paths, key=lambda x: x.split(\"/\")[-1])\n",
    "all_label_paths = sorted(all_label_paths, key=lambda x: x.split(\"/\")[-1])"
   ]
  },
  {
   "cell_type": "code",
   "execution_count": 5,
   "metadata": {},
   "outputs": [],
   "source": [
    "train_val_test_ratio = (0.8, 0.1, 0.1)\n",
    "random.seed(42)\n",
    "assignation = random.choices((\"train\", \"val\", \"test\"), weights=train_val_test_ratio, k=len(all_image_paths))\n",
    "\n",
    "assert len(assignation) == len(all_image_paths) == len(all_label_paths), f\"The following condition was not satisfied: {len(assignation)} == {len(all_image_paths)} == {len(all_label_paths)}\""
   ]
  },
  {
   "cell_type": "code",
   "execution_count": 6,
   "metadata": {},
   "outputs": [
    {
     "name": "stderr",
     "output_type": "stream",
     "text": [
      "100%|██████████| 1386/1386 [00:02<00:00, 468.45it/s]\n"
     ]
    }
   ],
   "source": [
    "for i in trange(len(assignation)):\n",
    "    image_path = all_image_paths[i]\n",
    "    label_path = all_label_paths[i]\n",
    "    assign = assignation[i]\n",
    "    shutil.copy(image_path, f\"{YOLO_DATA_PATH}/{assign}/images\")\n",
    "    shutil.copy(label_path, f\"{YOLO_DATA_PATH}/{assign}/labels\")"
   ]
  },
  {
   "cell_type": "markdown",
   "metadata": {},
   "source": [
    "# Grab Roboflow Dataset\n",
    "Source: https://universe.roboflow.com/viviana/open-close-mouth/dataset/1"
   ]
  },
  {
   "cell_type": "code",
   "execution_count": 7,
   "metadata": {},
   "outputs": [],
   "source": [
    "ROBOFLOW_DATASET_PATH = f\"{REPO_PATH}/data/Open-Close Mouth.v1i.yolov9\""
   ]
  },
  {
   "cell_type": "code",
   "execution_count": 8,
   "metadata": {},
   "outputs": [
    {
     "name": "stdout",
     "output_type": "stream",
     "text": [
      "['close', 'open']\n",
      "{0: 'remove_cap', 1: 'mouth_sealed_on_inhaler', 2: 'mouth_closed', 3: 'mouth_opened', 4: 'holding_inhaler'}\n"
     ]
    }
   ],
   "source": [
    "with open(f\"{ROBOFLOW_DATASET_PATH}/data.yaml\") as file:\n",
    "    try:\n",
    "        roboflow_data_meta = yaml.safe_load(file)[\"names\"]\n",
    "        print(roboflow_data_meta)\n",
    "    except yaml.YAMLError as exc:\n",
    "        print(exc)\n",
    "\n",
    "with open(f\"{REPO_PATH}/data/inhaler.yaml\") as file:\n",
    "    try:\n",
    "        inhaler_data_meta = yaml.safe_load(file)[\"names\"]\n",
    "        print(inhaler_data_meta)\n",
    "    except yaml.YAMLError as exc:\n",
    "        print(exc)"
   ]
  },
  {
   "cell_type": "code",
   "execution_count": 9,
   "metadata": {},
   "outputs": [],
   "source": [
    "roboflow_mouth_closed_id = roboflow_data_meta.index(\"close\")\n",
    "roboflow_mouth_open_id = roboflow_data_meta.index(\"open\")\n",
    "inhaler_mouth_closed_id = list(inhaler_data_meta.values()).index(\"mouth_closed\")\n",
    "inhaler_mouth_open_id = list(inhaler_data_meta.values()).index(\"mouth_opened\")"
   ]
  },
  {
   "cell_type": "code",
   "execution_count": 10,
   "metadata": {},
   "outputs": [],
   "source": [
    "roboflow_image_paths = [filename.replace(\"\\\\\", \"/\") for filename in glob.glob(f\"{ROBOFLOW_DATASET_PATH}/*/images/*.jpg\", recursive=True)]\n",
    "roboflow_image_filenames = [filename.split(\"/\")[-1] for filename in roboflow_image_paths]\n",
    "roboflow_label_paths = []\n",
    "for i, image_filepath in enumerate(roboflow_image_paths):\n",
    "    if \"train\" in image_filepath:\n",
    "        assign = \"train\"\n",
    "    elif \"val\" in image_filepath:\n",
    "        assign = \"valid\"\n",
    "    elif \"test\" in image_filepath:\n",
    "        assign = \"test\"\n",
    "    else:\n",
    "        raise ValueError(f\"Could not find the assignation for {image_filepath}\")\n",
    "    image_filename = roboflow_image_filenames[i]\n",
    "    label_path = image_filename.replace(\".jpg\", \".txt\").replace(\"images\", \"labels\")\n",
    "    roboflow_label_paths.append(f\"{ROBOFLOW_DATASET_PATH}/{assign}/labels/{label_path}\")\n",
    "\n",
    "roboflow_image_paths = sorted(roboflow_image_paths, key=lambda x: x.split(\"/\")[-1])\n",
    "roboflow_label_paths = sorted(roboflow_label_paths, key=lambda x: x.split(\"/\")[-1])"
   ]
  },
  {
   "cell_type": "code",
   "execution_count": 11,
   "metadata": {},
   "outputs": [],
   "source": [
    "for i, roboflow_label_path in enumerate(roboflow_label_paths):\n",
    "    roboflow_image_path = roboflow_image_paths[i]\n",
    "    image_name = roboflow_image_path.split(\"/\")[-1]\n",
    "    assign = roboflow_image_path.split(\"/\")[-3]\n",
    "    if assign == \"valid\":\n",
    "        assign = \"val\"\n",
    "\n",
    "    with open(roboflow_label_path) as f:\n",
    "        lines = \"\".join(f.readlines())\n",
    "        assert (int(lines[0]) == 0) or (int(lines[0]) == 1), f\"Found unknown class '{int(lines[0])}' in {roboflow_label_path}\"\n",
    "        roboflow_class = \"mouth_closed\" if int(lines[0]) == roboflow_mouth_closed_id else \"mouth_opened\"\n",
    "        inhaler_class = \"mouth_closed\" if int(lines[0]) == inhaler_mouth_closed_id else \"mouth_opened\"\n",
    "\n",
    "    # Generate the new label file\n",
    "    with open(f\"{YOLO_DATA_PATH}/{assign}/labels/{image_name.replace('.jpg', '.txt')}\", \"w\") as f:\n",
    "        f.write(f\"{inhaler_mouth_closed_id if roboflow_class == 'mouth_closed' else inhaler_mouth_open_id} {lines[2:]}\")\n",
    "\n",
    "    shutil.copy(roboflow_image_path, f\"{YOLO_DATA_PATH}/{assign}/images\")\n"
   ]
  },
  {
   "cell_type": "code",
   "execution_count": null,
   "metadata": {},
   "outputs": [],
   "source": []
  },
  {
   "cell_type": "code",
   "execution_count": null,
   "metadata": {},
   "outputs": [],
   "source": []
  },
  {
   "cell_type": "code",
   "execution_count": null,
   "metadata": {},
   "outputs": [],
   "source": []
  },
  {
   "cell_type": "code",
   "execution_count": null,
   "metadata": {},
   "outputs": [],
   "source": []
  }
 ],
 "metadata": {
  "kernelspec": {
   "display_name": "asthma",
   "language": "python",
   "name": "python3"
  },
  "language_info": {
   "codemirror_mode": {
    "name": "ipython",
    "version": 3
   },
   "file_extension": ".py",
   "mimetype": "text/x-python",
   "name": "python",
   "nbconvert_exporter": "python",
   "pygments_lexer": "ipython3",
   "version": "3.10.13"
  }
 },
 "nbformat": 4,
 "nbformat_minor": 2
}
