{
 "cells": [
  {
   "cell_type": "code",
   "execution_count": 1,
   "metadata": {},
   "outputs": [],
   "source": [
    "# asthma/notebooks/yolo_train_val_test_split.ipynb\n",
    "import os\n",
    "import sys\n",
    "os.chdir(\"./..\")\n",
    "sys.path.append(os.getcwd())\n",
    "\n",
    "import shutil\n",
    "import yaml\n",
    "import glob\n",
    "import random\n",
    "from tqdm import trange\n",
    "\n",
    "REPO_PATH = os.getcwd().replace(\"\\\\\", \"/\")"
   ]
  },
  {
   "cell_type": "code",
   "execution_count": 2,
   "metadata": {},
   "outputs": [],
   "source": [
    "YOLO_FULL_DATA_PATH = f\"{REPO_PATH}/data/full_dataset\"\n",
    "YOLO_DATA_PATH = f\"{REPO_PATH}/data\"\n",
    "INHALER_METADATA_PATH = f\"{REPO_PATH}/data/inhaler.yaml\""
   ]
  },
  {
   "cell_type": "code",
   "execution_count": 3,
   "metadata": {},
   "outputs": [],
   "source": [
    "with open(INHALER_METADATA_PATH, \"r\") as file:\n",
    "    inhaler_metadata = yaml.load(file, Loader=yaml.FullLoader)[\"names\"]"
   ]
  },
  {
   "cell_type": "code",
   "execution_count": 4,
   "metadata": {},
   "outputs": [],
   "source": [
    "all_image_paths = [filename.replace(\"\\\\\", \"/\") for filename in glob.glob(f\"{YOLO_FULL_DATA_PATH}/images/*.jpg\", recursive=True)]\n",
    "all_image_filenames = [filename.split(\"/\")[-1] for filename in all_image_paths]\n",
    "all_label_paths = []\n",
    "for image_filename in all_image_filenames:\n",
    "    label_path = image_filename.replace(\".jpg\", \".txt\").replace(\"images\", \"labels\")\n",
    "    all_label_paths.append(f\"{YOLO_FULL_DATA_PATH}/labels/{label_path}\")\n",
    "\n",
    "all_image_paths = sorted(all_image_paths, key=lambda x: x.split(\"/\")[-1])\n",
    "all_label_paths = sorted(all_label_paths, key=lambda x: x.split(\"/\")[-1])"
   ]
  },
  {
   "cell_type": "code",
   "execution_count": 5,
   "metadata": {},
   "outputs": [
    {
     "name": "stdout",
     "output_type": "stream",
     "text": [
      "Train videos: ['1', '2', '4', 'IMG_7283', 'IMG_7284', 'IMG_7288', 'IMG_7291', 'IMG_7292', 'inhaler_cap_hands_negative_2', 'inhaler_hand_negative_1', 'inhaler_hand_negative_2', 'inhaler_hand_positive', 'mouth_sealed_negative_1', 'mouth_sealed_negative_2', 'mouth_sealed_negative_5', 'mouth_sealed_negative_6']\n",
      "Val videos: ['inhaler_hand_negative_3', 'WIN_20240401_14_18_05_Pro', 'mouth_sealed_negative_8', 'inhaler_cap_hands_negative_1', 'WIN_20240401_14_20_35_Pro', 'mouth_sealed_negative_3', 'WIN_20240401_14_23_09_Pro', 'inhaler_hand_negative_4', 'WIN_20240401_14_14_22_Pro', 'mouth_sealed_negative_4', 'IMG_7295', 'mouth_sealed_negative_7', 'WIN_20240401_14_27_59_Pro']\n"
     ]
    }
   ],
   "source": [
    "all_video_filenames = list([\"_\".join(filename.split(\"_\")[:-1]) for filename in all_image_filenames])\n",
    "unique_video_filenames = sorted(list(set(all_video_filenames)))\n",
    "\n",
    "train_video_filenames = ['1', '2', '4', 'IMG_7283', 'IMG_7284', 'IMG_7288', 'IMG_7291', 'IMG_7292', 'inhaler_cap_hands_negative_2', 'inhaler_hand_negative_1',\\\n",
    " 'inhaler_hand_negative_2', 'inhaler_hand_positive', 'mouth_sealed_negative_1', 'mouth_sealed_negative_2', 'mouth_sealed_negative_5', 'mouth_sealed_negative_6']\n",
    "val_video_filenames = list(set(unique_video_filenames) - set(train_video_filenames))\n",
    "\n",
    "print(f\"Train videos: {train_video_filenames}\")\n",
    "print(f\"Val videos: {val_video_filenames}\")"
   ]
  },
  {
   "cell_type": "code",
   "execution_count": 6,
   "metadata": {},
   "outputs": [],
   "source": [
    "assignation = []\n",
    "for image_filename in all_image_paths:\n",
    "    image_filename = image_filename.split(\"/\")[-1]\n",
    "    video_filename = \"_\".join(image_filename.split(\"_\")[:-1])\n",
    "    if video_filename in train_video_filenames:\n",
    "        assignation.append(\"train\")\n",
    "    elif video_filename in val_video_filenames:\n",
    "        assignation.append(\"val\")\n",
    "    else:\n",
    "        raise ValueError(f\"Video filename {video_filename} not found in train or val videos\")"
   ]
  },
  {
   "cell_type": "code",
   "execution_count": 7,
   "metadata": {},
   "outputs": [
    {
     "name": "stderr",
     "output_type": "stream",
     "text": [
      "100%|██████████| 3297/3297 [00:06<00:00, 485.78it/s]\n"
     ]
    }
   ],
   "source": [
    "for i in trange(len(assignation)):\n",
    "    image_path = all_image_paths[i]\n",
    "    label_path = all_label_paths[i]\n",
    "    assign = assignation[i]\n",
    "    shutil.copy(image_path, f\"{YOLO_DATA_PATH}/{assign}/images\")\n",
    "    if os.path.exists(label_path):\n",
    "        shutil.copy(label_path, f\"{YOLO_DATA_PATH}/{assign}/labels\")"
   ]
  },
  {
   "cell_type": "markdown",
   "metadata": {},
   "source": [
    "### Finding the number of bounding boxes for each class in this new dataset"
   ]
  },
  {
   "cell_type": "code",
   "execution_count": 9,
   "metadata": {},
   "outputs": [
    {
     "name": "stdout",
     "output_type": "stream",
     "text": [
      "{'inhaler_hand': 1845, 'cap_hand': 828, 'mouth_closed': 2665, 'mouth_opened': 666, 'mouth_sealed_on_inhaler': 544}\n"
     ]
    }
   ],
   "source": [
    "classes_count = {}\n",
    "for label_path in all_label_paths:\n",
    "    if not os.path.exists(label_path): continue\n",
    "    with open(label_path, \"r\") as f:\n",
    "        lines = f.readlines()\n",
    "        class_id = [int(line.split(\" \")[0]) for line in lines]\n",
    "        for id in class_id:\n",
    "            id = inhaler_metadata[id]\n",
    "            if id not in classes_count:\n",
    "                classes_count[id] = 0\n",
    "            classes_count[id] += 1\n",
    "\n",
    "print(classes_count)"
   ]
  },
  {
   "cell_type": "markdown",
   "metadata": {},
   "source": [
    "# Grab Roboflow Dataset\n",
    "Source: https://universe.roboflow.com/viviana/open-close-mouth/dataset/1"
   ]
  },
  {
   "cell_type": "code",
   "execution_count": 10,
   "metadata": {},
   "outputs": [],
   "source": [
    "ROBOFLOW_DATASET_PATH = f\"{REPO_PATH}/data/Open-Close Mouth.v1i.yolov9\""
   ]
  },
  {
   "cell_type": "code",
   "execution_count": 11,
   "metadata": {},
   "outputs": [
    {
     "name": "stdout",
     "output_type": "stream",
     "text": [
      "['close', 'open']\n",
      "{0: 'inhaler_hand', 1: 'mouth_sealed_on_inhaler', 2: 'mouth_closed', 3: 'cap_hand', 4: 'mouth_opened'}\n"
     ]
    }
   ],
   "source": [
    "with open(f\"{ROBOFLOW_DATASET_PATH}/data.yaml\") as file:\n",
    "    try:\n",
    "        roboflow_data_meta = yaml.safe_load(file)[\"names\"]\n",
    "        print(roboflow_data_meta)\n",
    "    except yaml.YAMLError as exc:\n",
    "        print(exc)\n",
    "\n",
    "with open(f\"{REPO_PATH}/data/inhaler.yaml\") as file:\n",
    "    try:\n",
    "        inhaler_data_meta = yaml.safe_load(file)[\"names\"]\n",
    "        print(inhaler_data_meta)\n",
    "    except yaml.YAMLError as exc:\n",
    "        print(exc)"
   ]
  },
  {
   "cell_type": "code",
   "execution_count": 12,
   "metadata": {},
   "outputs": [],
   "source": [
    "roboflow_mouth_closed_id = roboflow_data_meta.index(\"close\")\n",
    "roboflow_mouth_open_id = roboflow_data_meta.index(\"open\")\n",
    "inhaler_mouth_closed_id = list(inhaler_data_meta.values()).index(\"mouth_closed\")\n",
    "inhaler_mouth_open_id = list(inhaler_data_meta.values()).index(\"mouth_opened\")"
   ]
  },
  {
   "cell_type": "code",
   "execution_count": 13,
   "metadata": {},
   "outputs": [],
   "source": [
    "roboflow_image_paths = [filename.replace(\"\\\\\", \"/\") for filename in glob.glob(f\"{ROBOFLOW_DATASET_PATH}/*/images/*.jpg\", recursive=True)]\n",
    "roboflow_image_filenames = [filename.split(\"/\")[-1] for filename in roboflow_image_paths]\n",
    "roboflow_label_paths = []\n",
    "for i, image_filepath in enumerate(roboflow_image_paths):\n",
    "    if \"train\" in image_filepath:\n",
    "        assign = \"train\"\n",
    "    elif \"val\" in image_filepath:\n",
    "        assign = \"valid\"\n",
    "    elif \"test\" in image_filepath:\n",
    "        assign = \"test\"\n",
    "    else:\n",
    "        raise ValueError(f\"Could not find the assignation for {image_filepath}\")\n",
    "    image_filename = roboflow_image_filenames[i]\n",
    "    label_path = image_filename.replace(\".jpg\", \".txt\").replace(\"images\", \"labels\")\n",
    "    roboflow_label_paths.append(f\"{ROBOFLOW_DATASET_PATH}/{assign}/labels/{label_path}\")\n",
    "\n",
    "roboflow_image_paths = sorted(roboflow_image_paths, key=lambda x: x.split(\"/\")[-1])\n",
    "roboflow_label_paths = sorted(roboflow_label_paths, key=lambda x: x.split(\"/\")[-1])"
   ]
  },
  {
   "cell_type": "code",
   "execution_count": 14,
   "metadata": {},
   "outputs": [
    {
     "name": "stdout",
     "output_type": "stream",
     "text": [
      "{'mouth_closed': 727, 'mouth_opened': 721}\n"
     ]
    }
   ],
   "source": [
    "# Count the number of mouth opened and mouth closed in Roboflow Dataset\n",
    "roboflow_classes_count = {}\n",
    "for label_path in roboflow_label_paths:\n",
    "    with open(label_path, \"r\") as f:\n",
    "        lines = f.readlines()\n",
    "        class_id = [int(line.split(\" \")[0]) for line in lines]\n",
    "        for id in class_id:\n",
    "            if id == roboflow_mouth_closed_id:\n",
    "                id = \"mouth_closed\"\n",
    "            elif id == roboflow_mouth_open_id:\n",
    "                id = \"mouth_opened\"\n",
    "            if id not in roboflow_classes_count:\n",
    "                roboflow_classes_count[id] = 0\n",
    "            roboflow_classes_count[id] += 1\n",
    "print(roboflow_classes_count)"
   ]
  },
  {
   "cell_type": "code",
   "execution_count": 15,
   "metadata": {},
   "outputs": [],
   "source": [
    "for i, roboflow_label_path in enumerate(roboflow_label_paths):\n",
    "    roboflow_image_path = roboflow_image_paths[i]\n",
    "    image_name = roboflow_image_path.split(\"/\")[-1]\n",
    "    assign = roboflow_image_path.split(\"/\")[-3]\n",
    "    if assign == \"valid\":\n",
    "        assign = \"val\"\n",
    "\n",
    "    with open(roboflow_label_path) as f:\n",
    "        lines = \"\".join(f.readlines())\n",
    "        assert (int(lines[0]) == 0) or (int(lines[0]) == 1), f\"Found unknown class '{int(lines[0])}' in {roboflow_label_path}\"\n",
    "        roboflow_class = \"mouth_closed\" if int(lines[0]) == roboflow_mouth_closed_id else \"mouth_opened\"\n",
    "        inhaler_class = \"mouth_closed\" if int(lines[0]) == inhaler_mouth_closed_id else \"mouth_opened\"\n",
    "\n",
    "    # Generate the new label file\n",
    "    with open(f\"{YOLO_DATA_PATH}/{assign}/labels/{image_name.replace('.jpg', '.txt')}\", \"w\") as f:\n",
    "        f.write(f\"{inhaler_mouth_closed_id if roboflow_class == 'mouth_closed' else inhaler_mouth_open_id} {lines[2:]}\")\n",
    "\n",
    "    shutil.copy(roboflow_image_path, f\"{YOLO_DATA_PATH}/{assign}/images\")\n"
   ]
  },
  {
   "cell_type": "code",
   "execution_count": null,
   "metadata": {},
   "outputs": [],
   "source": []
  },
  {
   "cell_type": "code",
   "execution_count": null,
   "metadata": {},
   "outputs": [],
   "source": []
  },
  {
   "cell_type": "code",
   "execution_count": null,
   "metadata": {},
   "outputs": [],
   "source": []
  },
  {
   "cell_type": "code",
   "execution_count": null,
   "metadata": {},
   "outputs": [],
   "source": []
  }
 ],
 "metadata": {
  "kernelspec": {
   "display_name": "asthma",
   "language": "python",
   "name": "python3"
  },
  "language_info": {
   "codemirror_mode": {
    "name": "ipython",
    "version": 3
   },
   "file_extension": ".py",
   "mimetype": "text/x-python",
   "name": "python",
   "nbconvert_exporter": "python",
   "pygments_lexer": "ipython3",
   "version": "3.10.13"
  }
 },
 "nbformat": 4,
 "nbformat_minor": 2
}
