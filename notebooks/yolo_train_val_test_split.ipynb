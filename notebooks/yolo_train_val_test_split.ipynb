{
 "cells": [
  {
   "cell_type": "code",
   "execution_count": 1,
   "metadata": {},
   "outputs": [],
   "source": [
    "# asthma/notebooks/yolo_train_val_test_split.ipynb\n",
    "import os\n",
    "import sys\n",
    "os.chdir(\"./..\")\n",
    "sys.path.append(os.getcwd())\n",
    "\n",
    "import shutil\n",
    "import glob\n",
    "import random\n",
    "from tqdm import trange\n",
    "\n",
    "REPO_PATH = os.getcwd().replace(\"\\\\\", \"/\")"
   ]
  },
  {
   "cell_type": "code",
   "execution_count": 2,
   "metadata": {},
   "outputs": [
    {
     "name": "stdout",
     "output_type": "stream",
     "text": [
      "Ignoring background class if it is found\n"
     ]
    }
   ],
   "source": [
    "YOLO_FULL_DATA_PATH = f\"{REPO_PATH}/data/full_dataset\"\n",
    "YOLO_DATA_PATH = f\"{REPO_PATH}/data\"\n",
    "CLASS_TO_IGNORE_DURING_TRAINING = \"background\"\n",
    "print(f\"Ignoring {CLASS_TO_IGNORE_DURING_TRAINING} class if it is found\")"
   ]
  },
  {
   "cell_type": "code",
   "execution_count": 3,
   "metadata": {},
   "outputs": [
    {
     "name": "stdout",
     "output_type": "stream",
     "text": [
      "Found 4 classes: ['background', 'mouth_closed', 'mouth_sealed_on_inhaler', 'remove_cap']\n"
     ]
    }
   ],
   "source": [
    "classes = os.listdir(f\"{YOLO_FULL_DATA_PATH}/images\")\n",
    "print(f\"Found {len(classes)} classes: {classes}\")"
   ]
  },
  {
   "cell_type": "code",
   "execution_count": 4,
   "metadata": {},
   "outputs": [],
   "source": [
    "all_image_paths = [filename.replace(\"\\\\\", \"/\") for filename in glob.glob(f\"{YOLO_FULL_DATA_PATH}/images/[!{CLASS_TO_IGNORE_DURING_TRAINING}]*/*.jpg\", recursive=True)]\n",
    "all_image_filenames = [filename.split(\"/\")[-1] for filename in all_image_paths]\n",
    "all_label_paths = []\n",
    "for image_filename in all_image_filenames:\n",
    "    label_path = image_filename.replace(\".jpg\", \".txt\").replace(\"images\", \"labels\")\n",
    "    all_label_paths.append(f\"{YOLO_FULL_DATA_PATH}/labels/{label_path}\")\n",
    "\n",
    "all_image_paths = sorted(all_image_paths, key=lambda x: x.split(\"/\")[-1])\n",
    "all_label_paths = sorted(all_label_paths, key=lambda x: x.split(\"/\")[-1])"
   ]
  },
  {
   "cell_type": "code",
   "execution_count": 5,
   "metadata": {},
   "outputs": [],
   "source": [
    "train_val_test_ratio = (0.8, 0.1, 0.1)\n",
    "random.seed(42)\n",
    "assignation = random.choices((\"train\", \"val\", \"test\"), weights=train_val_test_ratio, k=len(all_image_paths))\n",
    "\n",
    "assert len(assignation) == len(all_image_paths) == len(all_label_paths), f\"The following condition was not satisfied: {len(assignation)} == {len(all_image_paths)} == {len(all_label_paths)}\""
   ]
  },
  {
   "cell_type": "code",
   "execution_count": 6,
   "metadata": {},
   "outputs": [
    {
     "name": "stderr",
     "output_type": "stream",
     "text": [
      "100%|██████████| 973/973 [00:01<00:00, 551.23it/s]\n"
     ]
    }
   ],
   "source": [
    "for i in trange(len(assignation)):\n",
    "    image_path = all_image_paths[i]\n",
    "    label_path = all_label_paths[i]\n",
    "    assign = assignation[i]\n",
    "    shutil.copy(image_path, f\"{YOLO_DATA_PATH}/{assign}/images\")\n",
    "    shutil.copy(label_path, f\"{YOLO_DATA_PATH}/{assign}/labels\")"
   ]
  },
  {
   "cell_type": "code",
   "execution_count": null,
   "metadata": {},
   "outputs": [],
   "source": []
  }
 ],
 "metadata": {
  "kernelspec": {
   "display_name": "asthma",
   "language": "python",
   "name": "python3"
  },
  "language_info": {
   "codemirror_mode": {
    "name": "ipython",
    "version": 3
   },
   "file_extension": ".py",
   "mimetype": "text/x-python",
   "name": "python",
   "nbconvert_exporter": "python",
   "pygments_lexer": "ipython3",
   "version": "3.10.13"
  }
 },
 "nbformat": 4,
 "nbformat_minor": 2
}
