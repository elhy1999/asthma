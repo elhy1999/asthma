{
 "cells": [
  {
   "cell_type": "code",
   "execution_count": 1,
   "metadata": {},
   "outputs": [],
   "source": [
    "import os\n",
    "import sys\n",
    "os.chdir(\"./..\")\n",
    "sys.path.append(os.getcwd())\n",
    "\n",
    "import yaml\n",
    "\n",
    "import albumentations as A\n",
    "import cv2\n",
    "\n",
    "import numpy as np\n",
    "import matplotlib as mpl\n",
    "import matplotlib.pyplot as plt\n",
    "\n",
    "from utils.paths import REPO_PATH\n",
    "from utils.plots import visualize_bbox, visualize"
   ]
  },
  {
   "cell_type": "code",
   "execution_count": 2,
   "metadata": {},
   "outputs": [
    {
     "data": {
      "text/plain": [
       "Text(0, 0.5, 'Y-axis')"
      ]
     },
     "execution_count": 2,
     "metadata": {},
     "output_type": "execute_result"
    }
   ],
   "source": [
    "# Plot a line graph\n",
    "plt.plot([1.5, 3.0])\n",
    "\n",
    "# Plot the title, X and Y axis labels\n",
    "plt.title(\"Non Interactive Mode\")\n",
    "plt.xlabel(\"X-axis\")\n",
    "plt.ylabel(\"Y-axis\")"
   ]
  },
  {
   "cell_type": "code",
   "execution_count": 3,
   "metadata": {},
   "outputs": [],
   "source": [
    "TEST_IMAGE_PATH = f\"{REPO_PATH}/data/full_dataset/images/IMG_7288_0038.jpg\"\n",
    "TEST_LABEL_PATH = f\"{REPO_PATH}/data/full_dataset/labels/IMG_7288_0038.txt\"\n",
    "INHALER_META_PATH = f\"{REPO_PATH}/data/inhaler.yaml\""
   ]
  },
  {
   "cell_type": "code",
   "execution_count": 4,
   "metadata": {},
   "outputs": [],
   "source": [
    "with open(INHALER_META_PATH, 'r') as file:\n",
    "    category_id_to_name = yaml.safe_load(file)['names']"
   ]
  },
  {
   "cell_type": "code",
   "execution_count": 5,
   "metadata": {},
   "outputs": [
    {
     "name": "stderr",
     "output_type": "stream",
     "text": [
      "C:\\Users\\ernes\\AppData\\Local\\Temp\\ipykernel_12544\\2705041863.py:11: UserWarning: FigureCanvasAgg is non-interactive, and thus cannot be shown\n",
      "  plt.show()\n"
     ]
    }
   ],
   "source": [
    "test_image = cv2.imread(TEST_IMAGE_PATH)\n",
    "test_image = cv2.cvtColor(test_image, cv2.COLOR_BGR2RGB)\n",
    "with open(TEST_LABEL_PATH, \"r\") as f:\n",
    "    test_label = f.read()\n",
    "    test_label = test_label.replace(\"\\n\", \"\").split(\" \")\n",
    "    class_id = int(test_label[0])\n",
    "    bbox = [float(x) for x in test_label[1:]]\n",
    "    test_label = [*bbox, class_id]\n",
    "\n",
    "plt.imshow(test_image)\n",
    "plt.show()"
   ]
  },
  {
   "cell_type": "code",
   "execution_count": 5,
   "metadata": {},
   "outputs": [],
   "source": [
    "transform = A.Compose([\n",
    "    A.RandomSizedBBoxSafeCrop(width=test_image.shape[1], height=test_image.shape[0], erosion_rate=1),\n",
    "    A.HorizontalFlip(p=0.5),\n",
    "    A.RandomBrightnessContrast(brightness_limit=0.5, contrast_limit=0.5, p=0.7),\n",
    "], bbox_params=A.BboxParams(format='coco', min_visibility=0.7))"
   ]
  },
  {
   "cell_type": "code",
   "execution_count": 6,
   "metadata": {},
   "outputs": [],
   "source": [
    "transformed = transform(image=test_image, bboxes=[test_label])\n",
    "transformed_image = transformed['image']\n",
    "transformed_bboxes = transformed['bboxes']\n",
    "\n",
    "bboxes = [t[:-1] for t in transformed_bboxes]\n",
    "category_ids = [t[-1] for t in transformed_bboxes]\n",
    "\n",
    "# visualize(transformed_image, bboxes, category_ids, category_id_to_name)"
   ]
  },
  {
   "cell_type": "code",
   "execution_count": 8,
   "metadata": {},
   "outputs": [
    {
     "data": {
      "text/plain": [
       "<matplotlib.image.AxesImage at 0x115f45e0b50>"
      ]
     },
     "execution_count": 8,
     "metadata": {},
     "output_type": "execute_result"
    }
   ],
   "source": [
    "plt.imshow(transformed_image)"
   ]
  },
  {
   "cell_type": "code",
   "execution_count": null,
   "metadata": {},
   "outputs": [],
   "source": []
  }
 ],
 "metadata": {
  "kernelspec": {
   "display_name": "asthma",
   "language": "python",
   "name": "python3"
  },
  "language_info": {
   "codemirror_mode": {
    "name": "ipython",
    "version": 3
   },
   "file_extension": ".py",
   "mimetype": "text/x-python",
   "name": "python",
   "nbconvert_exporter": "python",
   "pygments_lexer": "ipython3",
   "version": "3.10.13"
  }
 },
 "nbformat": 4,
 "nbformat_minor": 2
}
